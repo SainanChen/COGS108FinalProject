{
 "cells": [
  {
   "cell_type": "markdown",
   "metadata": {},
   "source": [
    "# COGS 108 - Final Project "
   ]
  },
  {
   "cell_type": "markdown",
   "metadata": {},
   "source": [
    "# Overview"
   ]
  },
  {
   "cell_type": "markdown",
   "metadata": {},
   "source": [
    "* Overview *"
   ]
  },
  {
   "cell_type": "markdown",
   "metadata": {},
   "source": [
    "# Names\n",
    "\n",
    "- Sainan Chen\n",
    "- Liying Gui\n",
    "- Yuechen Liu\n",
    "- Kunal Parulekar\n",
    "- Maryam Rahdaran\n",
    "- Mingshuo Yu"
   ]
  },
  {
   "cell_type": "markdown",
   "metadata": {},
   "source": [
    "# Group Members IDs\n",
    "\n",
    "- A14483750\n",
    "- A14428755\n",
    "- A15682187\n",
    "- A12747850\n",
    "- A15714113\n",
    "- A"
   ]
  },
  {
   "cell_type": "markdown",
   "metadata": {},
   "source": [
    "# Research Question"
   ]
  },
  {
   "cell_type": "markdown",
   "metadata": {},
   "source": [
    "After analyzing features of videos gathered through Youtube, we want to provide recommendations for companies while they seek for youtubers for commercial help and also we can help youtubers to improve their youtube channel by providing information about trendy video categories and trendy periods."
   ]
  },
  {
   "cell_type": "markdown",
   "metadata": {},
   "source": [
    "## Background and Prior Work"
   ]
  },
  {
   "cell_type": "markdown",
   "metadata": {},
   "source": [
    "This data set is a collection of information about 138,000 Youtube videos that span several different categories. We know that certain videos are more or less likely to appear as “trending” on Youtube. We also know that this can seriously impact the view numbers, and so the revenue generated from these videos. We also know that advertisers want to advertise on videos that are less controversial and/or of higher quality and we believe that using the like/dislike ratio of a video is a good way to understand that metric. So far, it is difficult to find other similar projects since YouTube analytics is its own tool through YouTube. If we do find one later, we can always reference its findings compared to our own. \n",
    "\n",
    "References (include links):\n",
    "- 1)\n",
    "- 2)"
   ]
  },
  {
   "cell_type": "markdown",
   "metadata": {},
   "source": [
    "# Hypothesis\n"
   ]
  },
  {
   "cell_type": "markdown",
   "metadata": {},
   "source": [
    "The answer we are expecting is, for example, a list of popular youtubers(millions of subscribers)focusing on high tech with good response from former videos (high likes over dislikes ratio) will be recommended to company like Apple and Huawei to promote their high-tech products. "
   ]
  },
  {
   "cell_type": "markdown",
   "metadata": {},
   "source": [
    "# Dataset(s)"
   ]
  },
  {
   "cell_type": "markdown",
   "metadata": {},
   "source": [
    "*Fill in your dataset information here*\n",
    "\n",
    "(Copy this information for each dataset)\n",
    "- Dataset Name:\n",
    "- Link to the dataset:\n",
    "- Number of observations:\n",
    "\n",
    "1-2 sentences describing each dataset. \n",
    "\n",
    "If you plan to use multiple datasets, add 1-2 sentences about how you plan to combine these datasets."
   ]
  },
  {
   "cell_type": "markdown",
   "metadata": {},
   "source": [
    "# Setup"
   ]
  },
  {
   "cell_type": "code",
   "execution_count": 1,
   "metadata": {},
   "outputs": [],
   "source": [
    "# Imports\n",
    "# \n",
    "# Note: these are all the imports you need for this assignment!\n",
    "# Do not import any other functions / packages\n",
    "\n",
    "# Display plots directly in the notebook instead of in a new window\n",
    "%matplotlib inline\n",
    "\n",
    "# Import libraries\n",
    "import numpy as np\n",
    "import pandas as pd\n",
    "import matplotlib.pyplot as plt\n",
    "import seaborn as sns"
   ]
  },
  {
   "cell_type": "markdown",
   "metadata": {},
   "source": [
    "# Data Cleaning"
   ]
  },
  {
   "cell_type": "markdown",
   "metadata": {},
   "source": [
    "Describe your data cleaning steps here."
   ]
  },
  {
   "cell_type": "code",
   "execution_count": 2,
   "metadata": {},
   "outputs": [],
   "source": [
    "## YOUR CODE HERE\n",
    "## FEEL FREE TO ADD MULTIPLE CELLS PER SECTION\n",
    "\n",
    "# Configure libraries\n",
    "# The seaborn library makes plots look nicer\n",
    "sns.set()\n",
    "sns.set_context('talk')\n",
    "\n",
    "# Don't display too many rows/cols of DataFrames\n",
    "pd.options.display.max_rows = 20\n",
    "pd.options.display.max_columns = 8\n",
    "\n",
    "# Round decimals when displaying DataFrames\n",
    "pd.set_option('precision', 2)"
   ]
  },
  {
   "cell_type": "code",
   "execution_count": 3,
   "metadata": {},
   "outputs": [
    {
     "name": "stdout",
     "output_type": "stream",
     "text": [
      "        country_code trending_date  \\\n",
      "0                  0      17.14.11   \n",
      "1                  0      17.14.11   \n",
      "2                  0      17.14.11   \n",
      "3                  0      17.14.11   \n",
      "4                  0      17.14.11   \n",
      "5                  0      17.14.11   \n",
      "6                  0      17.14.11   \n",
      "7                  0      17.14.11   \n",
      "8                  0      17.14.11   \n",
      "9                  0      17.14.11   \n",
      "...              ...           ...   \n",
      "137578             4      18.07.04   \n",
      "137579             4      18.07.04   \n",
      "137580             4      18.07.04   \n",
      "137581             4      18.07.04   \n",
      "137582             4      18.07.04   \n",
      "137583             4      18.07.04   \n",
      "137584             4      18.07.04   \n",
      "137585             4      18.07.04   \n",
      "137586             4      18.07.04   \n",
      "137587             4      18.07.04   \n",
      "\n",
      "                                                    title  \\\n",
      "0              Eminem - Walk On Water (Audio) ft. Beyoncé   \n",
      "1                           PLUSH - Bad Unboxing Fan Mail   \n",
      "2       Racist Superman | Rudy Mancuso, King Bach & Le...   \n",
      "3                                I Dare You: GOING BALD!?   \n",
      "4             Ed Sheeran - Perfect (Official Music Video)   \n",
      "5       Jake Paul Says Alissa Violet CHEATED with LOGA...   \n",
      "6                  Vanoss Superhero School - New Students   \n",
      "7                      WE WANT TO TALK ABOUT OUR MARRIAGE   \n",
      "8                    THE LOGANG MADE HISTORY. LOL. AGAIN.   \n",
      "9       Finally Sheldon is winning an argument about t...   \n",
      "...                                                   ...   \n",
      "137578  Alan Walker, Keala Settle & The Greatest Showm...   \n",
      "137579  Everything Yolanda Hadid Eats In a Day | Food ...   \n",
      "137580             Dem Beats (ft. RuPaul) by TODRICK HALL   \n",
      "137581                 Shawn Mendes Lost In Japan (Audio)   \n",
      "137582  KIM KARDASHIAN: KKW Concealer Kits REVIEW ft. ...   \n",
      "137583  Impulse | Official Teaser Trailer - YouTube Or...   \n",
      "137584            SUPERFLY - Official Teaser Trailer (HD)   \n",
      "137585                                Dancing Furry Ball!   \n",
      "137586         Kacey Musgraves - High Horse (Lyric Video)   \n",
      "137587          First footage of deep-sea anglerfish pair   \n",
      "\n",
      "                      channel_title     ...      age_dd age_hh age_min  \\\n",
      "0                        EminemVEVO     ...           3      7       0   \n",
      "1                         iDubbbzTV     ...           0      7       0   \n",
      "2                      Rudy Mancuso     ...           1      4      55   \n",
      "3                          nigahiga     ...           1      5      59   \n",
      "4                        Ed Sheeran     ...           4     12      56   \n",
      "5                        DramaAlert     ...           0     16      23   \n",
      "6                      VanossGaming     ...           1      0       8   \n",
      "7                      CaseyNeistat     ...           0      6      47   \n",
      "8                  Logan Paul Vlogs     ...           1      3      41   \n",
      "9                       Sheikh Musa     ...           3      9      50   \n",
      "...                             ...     ...         ...    ...     ...   \n",
      "137578                  Alan Walker     ...          14     15      55   \n",
      "137579              Harper's BAZAAR     ...          14      5      58   \n",
      "137580                  todrickhall     ...          15      1      44   \n",
      "137581                 Shawn Mendes     ...          14     19      30   \n",
      "137582              NikkieTutorials     ...          15      3      30   \n",
      "137583                      Impulse     ...          15      7       0   \n",
      "137584  Sony Pictures Entertainment     ...          14     20       0   \n",
      "137585                 barnabydixon     ...          14      4      55   \n",
      "137586           KaceyMusgravesVEVO     ...          15      8      12   \n",
      "137587             Science Magazine     ...          15      9      58   \n",
      "\n",
      "        like_ratio  \n",
      "0            94.77  \n",
      "1            98.70  \n",
      "2            96.47  \n",
      "3            98.52  \n",
      "4            98.73  \n",
      "5            95.74  \n",
      "6            95.01  \n",
      "7            95.10  \n",
      "8            98.61  \n",
      "9            80.90  \n",
      "...            ...  \n",
      "137578       97.44  \n",
      "137579       95.79  \n",
      "137580       97.17  \n",
      "137581       98.95  \n",
      "137582       97.03  \n",
      "137583       89.47  \n",
      "137584       74.96  \n",
      "137585       99.12  \n",
      "137586       93.30  \n",
      "137587       98.68  \n",
      "\n",
      "[137588 rows x 28 columns]\n"
     ]
    }
   ],
   "source": [
    "youtube_df = pd.read_csv(\"all_videos_with_revised_dates.csv\")\n",
    "youtube_df = youtube_df.drop('video_id', axis = 1)\n",
    "youtube_df['like_ratio'] = ((youtube_df['likes']/(youtube_df['likes']+youtube_df['dislikes']))*100)\n",
    "print(youtube_df)"
   ]
  },
  {
   "cell_type": "code",
   "execution_count": 4,
   "metadata": {},
   "outputs": [
    {
     "name": "stdout",
     "output_type": "stream",
     "text": [
      "52468    8804\n",
      "Name: views, dtype: int64\n"
     ]
    }
   ],
   "source": [
    "print(youtube_df[youtube_df.category_id == 44].views)"
   ]
  },
  {
   "cell_type": "code",
   "execution_count": 5,
   "metadata": {},
   "outputs": [
    {
     "data": {
      "text/plain": [
       "<matplotlib.axes._subplots.AxesSubplot at 0x7f0b9121bb00>"
      ]
     },
     "execution_count": 5,
     "metadata": {},
     "output_type": "execute_result"
    },
    {
     "data": {
      "image/png": "[encoded data removed]",
      "text/plain": [
       "<Figure size 432x288 with 1 Axes>"
      ]
     },
     "metadata": {},
     "output_type": "display_data"
    }
   ],
   "source": [
    "youtube_df.plot(x='views',y='like_ratio')"
   ]
  },
  {
   "cell_type": "code",
   "execution_count": 6,
   "metadata": {},
   "outputs": [
    {
     "name": "stdout",
     "output_type": "stream",
     "text": [
      "52468    0\n",
      "Name: dislikes, dtype: int64\n"
     ]
    }
   ],
   "source": [
    "print(youtube_df[youtube_df.category_id == 44].dislikes)\n",
    "#For some reason category 44 has no likes or dislikes so I'll remove that one.\n",
    "youtube_df = youtube_df[youtube_df.category_id != 44]"
   ]
  },
  {
   "cell_type": "code",
   "execution_count": 7,
   "metadata": {},
   "outputs": [
    {
     "name": "stdout",
     "output_type": "stream",
     "text": [
      "        category_id  like_ratio  count\n",
      "0                10       94.77  19466\n",
      "1                23       98.70  11211\n",
      "2                23       96.47  11211\n",
      "3                24       98.52  38707\n",
      "4                10       98.73  19466\n",
      "5                25       95.74   9760\n",
      "6                23       95.01  11211\n",
      "7                22       95.10  14544\n",
      "8                24       98.61  38707\n",
      "9                22       80.90  14544\n",
      "...             ...         ...    ...\n",
      "137578           10       97.44  19466\n",
      "137579           26       95.79   9010\n",
      "137580           24       97.17  38707\n",
      "137581           10       98.95  19466\n",
      "137582           26       97.03   9010\n",
      "137583           24       89.47  38707\n",
      "137584           24       74.96  38707\n",
      "137585            1       99.12   7671\n",
      "137586           10       93.30  19466\n",
      "137587           28       98.68   4134\n",
      "\n",
      "[137587 rows x 3 columns]\n"
     ]
    }
   ],
   "source": [
    "#This is for our category analysis\n",
    "category_likes_df = youtube_df[['category_id','like_ratio']].copy()\n",
    "category_likes_df['count'] = category_likes_df.groupby('category_id')['category_id'].transform('count')\n",
    "print(category_likes_df)\n",
    "category_likes_df = category_likes_df.groupby(['category_id'])[['category_id','like_ratio','count']].mean()"
   ]
  },
  {
   "cell_type": "code",
   "execution_count": 8,
   "metadata": {},
   "outputs": [
    {
     "data": {
      "text/html": [
       "<div>\n",
       "<style scoped>\n",
       "    .dataframe tbody tr th:only-of-type {\n",
       "        vertical-align: middle;\n",
       "    }\n",
       "\n",
       "    .dataframe tbody tr th {\n",
       "        vertical-align: top;\n",
       "    }\n",
       "\n",
       "    .dataframe thead th {\n",
       "        text-align: right;\n",
       "    }\n",
       "</style>\n",
       "<table border=\"1\" class=\"dataframe\">\n",
       "  <thead>\n",
       "    <tr style=\"text-align: right;\">\n",
       "      <th></th>\n",
       "      <th>category_id</th>\n",
       "      <th>like_ratio</th>\n",
       "      <th>count</th>\n",
       "    </tr>\n",
       "    <tr>\n",
       "      <th>category_id</th>\n",
       "      <th></th>\n",
       "      <th></th>\n",
       "      <th></th>\n",
       "    </tr>\n",
       "  </thead>\n",
       "  <tbody>\n",
       "    <tr>\n",
       "      <th>1</th>\n",
       "      <td>1</td>\n",
       "      <td>93.14</td>\n",
       "      <td>7671</td>\n",
       "    </tr>\n",
       "    <tr>\n",
       "      <th>2</th>\n",
       "      <td>2</td>\n",
       "      <td>93.52</td>\n",
       "      <td>1822</td>\n",
       "    </tr>\n",
       "    <tr>\n",
       "      <th>10</th>\n",
       "      <td>10</td>\n",
       "      <td>95.93</td>\n",
       "      <td>19466</td>\n",
       "    </tr>\n",
       "    <tr>\n",
       "      <th>15</th>\n",
       "      <td>15</td>\n",
       "      <td>97.00</td>\n",
       "      <td>1663</td>\n",
       "    </tr>\n",
       "    <tr>\n",
       "      <th>17</th>\n",
       "      <td>17</td>\n",
       "      <td>92.63</td>\n",
       "      <td>9618</td>\n",
       "    </tr>\n",
       "    <tr>\n",
       "      <th>19</th>\n",
       "      <td>19</td>\n",
       "      <td>94.41</td>\n",
       "      <td>871</td>\n",
       "    </tr>\n",
       "    <tr>\n",
       "      <th>20</th>\n",
       "      <td>20</td>\n",
       "      <td>94.79</td>\n",
       "      <td>4978</td>\n",
       "    </tr>\n",
       "    <tr>\n",
       "      <th>22</th>\n",
       "      <td>22</td>\n",
       "      <td>91.18</td>\n",
       "      <td>14544</td>\n",
       "    </tr>\n",
       "    <tr>\n",
       "      <th>23</th>\n",
       "      <td>23</td>\n",
       "      <td>95.81</td>\n",
       "      <td>11211</td>\n",
       "    </tr>\n",
       "    <tr>\n",
       "      <th>24</th>\n",
       "      <td>24</td>\n",
       "      <td>92.08</td>\n",
       "      <td>38707</td>\n",
       "    </tr>\n",
       "    <tr>\n",
       "      <th>25</th>\n",
       "      <td>25</td>\n",
       "      <td>83.69</td>\n",
       "      <td>9760</td>\n",
       "    </tr>\n",
       "    <tr>\n",
       "      <th>26</th>\n",
       "      <td>26</td>\n",
       "      <td>96.01</td>\n",
       "      <td>9010</td>\n",
       "    </tr>\n",
       "    <tr>\n",
       "      <th>27</th>\n",
       "      <td>27</td>\n",
       "      <td>95.08</td>\n",
       "      <td>3484</td>\n",
       "    </tr>\n",
       "    <tr>\n",
       "      <th>28</th>\n",
       "      <td>28</td>\n",
       "      <td>94.57</td>\n",
       "      <td>4134</td>\n",
       "    </tr>\n",
       "    <tr>\n",
       "      <th>29</th>\n",
       "      <td>29</td>\n",
       "      <td>86.79</td>\n",
       "      <td>427</td>\n",
       "    </tr>\n",
       "    <tr>\n",
       "      <th>43</th>\n",
       "      <td>43</td>\n",
       "      <td>75.74</td>\n",
       "      <td>221</td>\n",
       "    </tr>\n",
       "  </tbody>\n",
       "</table>\n",
       "</div>"
      ],
      "text/plain": [
       "             category_id  like_ratio  count\n",
       "category_id                                \n",
       "1                      1       93.14   7671\n",
       "2                      2       93.52   1822\n",
       "10                    10       95.93  19466\n",
       "15                    15       97.00   1663\n",
       "17                    17       92.63   9618\n",
       "19                    19       94.41    871\n",
       "20                    20       94.79   4978\n",
       "22                    22       91.18  14544\n",
       "23                    23       95.81  11211\n",
       "24                    24       92.08  38707\n",
       "25                    25       83.69   9760\n",
       "26                    26       96.01   9010\n",
       "27                    27       95.08   3484\n",
       "28                    28       94.57   4134\n",
       "29                    29       86.79    427\n",
       "43                    43       75.74    221"
      ]
     },
     "execution_count": 8,
     "metadata": {},
     "output_type": "execute_result"
    }
   ],
   "source": [
    "category_likes_df"
   ]
  },
  {
   "cell_type": "code",
   "execution_count": 9,
   "metadata": {},
   "outputs": [
    {
     "data": {
      "text/plain": [
       "Index(['category_id', 'like_ratio', 'count'], dtype='object')"
      ]
     },
     "execution_count": 9,
     "metadata": {},
     "output_type": "execute_result"
    }
   ],
   "source": [
    "category_likes_df.columns"
   ]
  },
  {
   "cell_type": "code",
   "execution_count": 10,
   "metadata": {},
   "outputs": [
    {
     "data": {
      "text/plain": [
       "<matplotlib.axes._subplots.AxesSubplot at 0x7f0bf4096fd0>"
      ]
     },
     "execution_count": 10,
     "metadata": {},
     "output_type": "execute_result"
    },
    {
     "data": {
      "image/png": "[encoded data removed]",
      "text/plain": [
       "<Figure size 1080x936 with 1 Axes>"
      ]
     },
     "metadata": {},
     "output_type": "display_data"
    }
   ],
   "source": [
    "category_likes_df.plot.bar(x = 'category_id', y = 'like_ratio', figsize=(15,13))"
   ]
  },
  {
   "cell_type": "code",
   "execution_count": 11,
   "metadata": {},
   "outputs": [
    {
     "name": "stdout",
     "output_type": "stream",
     "text": [
      "0         2017-11-10T17:00:03.000Z\n",
      "1         2017-11-13T17:00:00.000Z\n",
      "2         2017-11-12T19:05:24.000Z\n",
      "3         2017-11-12T18:01:41.000Z\n",
      "4         2017-11-09T11:04:14.000Z\n",
      "5         2017-11-13T07:37:51.000Z\n",
      "6         2017-11-12T23:52:13.000Z\n",
      "7         2017-11-13T17:13:01.000Z\n",
      "8         2017-11-12T20:19:24.000Z\n",
      "9         2017-11-10T14:10:46.000Z\n",
      "                    ...           \n",
      "137578    2018-03-23T08:05:27.000Z\n",
      "137579    2018-03-23T18:02:08.000Z\n",
      "137580    2018-03-22T22:16:17.000Z\n",
      "137581    2018-03-23T04:30:01.000Z\n",
      "137582    2018-03-22T20:30:23.000Z\n",
      "137583    2018-03-22T17:00:08.000Z\n",
      "137584    2018-03-23T04:00:10.000Z\n",
      "137585    2018-03-23T19:05:39.000Z\n",
      "137586    2018-03-22T15:48:42.000Z\n",
      "137587    2018-03-22T14:02:45.000Z\n",
      "Name: publish_time, Length: 137587, dtype: object\n"
     ]
    }
   ],
   "source": [
    "#Here we can see there is a pretty clearly some categories are better than others at getting better\n",
    "#What if we investigated time posted with views?\n",
    "print(youtube_df.publish_time)"
   ]
  },
  {
   "cell_type": "code",
   "execution_count": null,
   "metadata": {},
   "outputs": [],
   "source": []
  },
  {
   "cell_type": "markdown",
   "metadata": {},
   "source": [
    "# Data Analysis & Results"
   ]
  },
  {
   "cell_type": "code",
   "execution_count": null,
   "metadata": {},
   "outputs": [],
   "source": []
  },
  {
   "cell_type": "markdown",
   "metadata": {},
   "source": [
    "Include cells that describe the steps in your data analysis."
   ]
  },
  {
   "cell_type": "code",
   "execution_count": 5,
   "metadata": {},
   "outputs": [],
   "source": [
    "## YOUR CODE HERE\n",
    "## FEEL FREE TO ADD MULTIPLE CELLS PER SECTION"
   ]
  },
  {
   "cell_type": "markdown",
   "metadata": {},
   "source": [
    "# Ethics & Privacy"
   ]
  },
  {
   "cell_type": "markdown",
   "metadata": {},
   "source": [
    "Based on the Kaggle policy we complied that we use the Services for our own internal, personal, non-commercial use, and not on behalf of or for the benefit of any third party therefore we have the permission to use the data. Since the videos are public as well the dataset, we believe that there is no privacy concern we need to deal with. Since the dataset is collected by the Youtube API, we believe that the collector has minimized the bias in the dataset.\n"
   ]
  },
  {
   "cell_type": "markdown",
   "metadata": {},
   "source": [
    "# Conclusion & Discussion"
   ]
  },
  {
   "cell_type": "markdown",
   "metadata": {},
   "source": [
    "*Fill in your discussion information here*"
   ]
  }
 ],
 "metadata": {
  "kernelspec": {
   "display_name": "Python 3",
   "language": "python",
   "name": "python3"
  },
  "language_info": {
   "codemirror_mode": {
    "name": "ipython",
    "version": 3
   },
   "file_extension": ".py",
   "mimetype": "text/x-python",
   "name": "python",
   "nbconvert_exporter": "python",
   "pygments_lexer": "ipython3",
   "version": "3.5.2"
  }
 },
 "nbformat": 4,
 "nbformat_minor": 2
}
